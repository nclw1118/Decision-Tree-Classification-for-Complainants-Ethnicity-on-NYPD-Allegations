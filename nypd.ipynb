{
 "cells": [
  {
   "cell_type": "markdown",
   "metadata": {},
   "source": [
    "# NYPD Allegations\n",
    "* **See the main project notebook for instructions to be sure you satisfy the rubric!**\n",
    "* See Project 03 for information on the dataset.\n",
    "* A few example prediction questions to pursue are listed below. However, don't limit yourself to them!\n",
    "    * Predict the outcome of an allegation (might need to feature engineer your output column).\n",
    "    * Predict the complainant or officer ethnicity.\n",
    "    * Predict the amount of time between the month received vs month closed (difference of the two columns).\n",
    "    * Predict the rank of the officer.\n",
    "\n",
    "Be careful to justify what information you would know at the \"time of prediction\" and train your model using only those features."
   ]
  },
  {
   "cell_type": "markdown",
   "metadata": {},
   "source": [
    "# Summary of Findings\n",
    "\n",
    "\n",
    "### Introduction\n",
    "The prediction question of our project is given the information of all complainants, police officers, and all cases, predict the ethnicity of the complainant. This is a classification problem, because we are trying to classify the result into categories, such as Black, Asian, and etc. The target variable of our project is the ethnicity of complainant, which includes Black, Hispanic, White, Other Race, Asian, and American Indian. Our objective is to use the accuracy to evaluate the model. We want to investigate in how accurate our model will predict a complainant's ethnicity based on the information given in the dataset.\n",
    "\n",
    "### Baseline Model\n",
    "The features we will use for baseline model are complainant_gender, complainant_age_incident, mos_ethnicity, and fado_type. We will use a total of 4 features to predict the ethnicity of complainant for the basline model. Among the 4 features, 3 features are nominal variables and 1 feature is quantitative variables. We will use OneHotEncoder for all categorical variables to transform them into binary variables and leave the one quantitative variable as it is. Our baseline model has an accuracy of about 0.59. Accuracy comes from the r-squared value. The closer that r-squared value to 1 indicates that our model is better. We think this performance is not very good, there is a huge gap between our r-squared value and 1. However, this performance is not too bad, because at least more than half of our predictions is correct. We could improve the accuracy by building more meaningful features.\n",
    "\n",
    "### Final Model\n",
    "\n",
    "**ADD FEATURE - Duration(length) of Complains.**\n",
    "\n",
    "In our project03, we did a hypothesis test and proved that black complaints were having significantly different complaint duration than others. Therefore we included the new engineered feature-Duration, which enhanced the performance to 0.66.\n",
    "\n",
    "\n",
    "**ADD FEATURE - Last Name.**\n",
    "\n",
    "we thought that name would be a great indicator of an individual's ethnicity since people from different area of the world has uses different languages of last names and are also likely have different ethnicities. After including last name as another categorical feature, we got R^2 increased to 0.76\n",
    "\n",
    "**DELETE FEATURE - fado_type.**\n",
    "\n",
    "At this step we look back to the baseline parameters again and find the feature fado_type seems like the most irelevant feature associated with ethnicity. After deleting it, we got R^2 increased to about 0.81\n",
    "\n",
    "\n",
    "**ADD FEATURE -year_received\\*year_closed**\n",
    "\n",
    "We found that we have only used time data in the engineering feature duration, but time is also an important indicator of the social backgroud so we may consider using it not as durations. We have tried every combinations of features and found year_received\\*year_closed the most reasonable and useful feature to be added. In doing so we enhanced the R^2 to 0.83.\n",
    "\n",
    "**FINAL MODEL:**\n",
    "<li>numerical:</li>\n",
    "       \n",
    "       engineered Length feature\n",
    "       \n",
    "       enginerred year_received year_closed feature\n",
    "       \n",
    "       complainant_age_incident feature\n",
    "\n",
    "<li>categorical:</li>\n",
    "\n",
    "       \"complainant_gender\", \"mos_ethnicity\", and \"last_name\"\n",
    "       \n",
    "At last, we are able to improve our model from R^2 0.59 to 0.83, which we think is a big improvement\n",
    "\n",
    "\n",
    "\n",
    "\n",
    "\n",
    "\n",
    "### Fairness Evaluation\n",
    "\n",
    "**Inspriation**\n",
    "\n",
    "After observing the value counts for different ethnicities, we found that the black group has much more datapoints than others, which may be a potential threat to our model fairness.\n",
    "\n",
    "**Permutation Test**\n",
    "\n",
    "Therefore, we decided to use sensitivity (What proportion of a certain ethnicity were correctly predicted?) as our measurement of fairness to test the difference of recall across black and non-black groups. \n",
    "\n",
    "We used the classic difference-in-means as the test statistic to test the null hypothesis-  sensitivity of the black group is equal to the sensitivity of others, and unsuprisingly got a p-value of 0. Which confirms our first thougtht.\n",
    "\n",
    "**Reflection**\n",
    "\n",
    "Since the initial dataset we got has overwhelmingly large proportion of black complainants, our model is biased towards the black group. In other words, it is more likely to predict a complainant's ethnicity as black rather than other races."
   ]
  },
  {
   "cell_type": "markdown",
   "metadata": {},
   "source": [
    "# Code"
   ]
  },
  {
   "cell_type": "code",
   "execution_count": 41,
   "metadata": {},
   "outputs": [],
   "source": [
    "simport numpy as np\n",
    "import os\n",
    "import pandas as pd\n",
    "import seaborn as sns\n",
    "%matplotlib inline\n",
    "%config InlineBackend.figure_format = 'retina'  # Higher resolution figures\n",
    "\n",
    "from sklearn.tree import DecisionTreeClassifier\n",
    "from sklearn.model_selection import train_test_split\n",
    "from sklearn.preprocessing import FunctionTransformer\n",
    "from sklearn.preprocessing import OneHotEncoder\n",
    "from sklearn.pipeline import Pipeline\n",
    "from sklearn.compose import ColumnTransformer\n",
    "\n",
    "\n",
    "from sklearn.base import BaseEstimator, TransformerMixin\n",
    "from sklearn import metrics"
   ]
  },
  {
   "cell_type": "markdown",
   "metadata": {},
   "source": [
    "### Baseline Model"
   ]
  },
  {
   "cell_type": "code",
   "execution_count": 42,
   "metadata": {},
   "outputs": [
    {
     "data": {
      "text/html": [
       "<div>\n",
       "<style scoped>\n",
       "    .dataframe tbody tr th:only-of-type {\n",
       "        vertical-align: middle;\n",
       "    }\n",
       "\n",
       "    .dataframe tbody tr th {\n",
       "        vertical-align: top;\n",
       "    }\n",
       "\n",
       "    .dataframe thead th {\n",
       "        text-align: right;\n",
       "    }\n",
       "</style>\n",
       "<table border=\"1\" class=\"dataframe\">\n",
       "  <thead>\n",
       "    <tr style=\"text-align: right;\">\n",
       "      <th></th>\n",
       "      <th>unique_mos_id</th>\n",
       "      <th>first_name</th>\n",
       "      <th>last_name</th>\n",
       "      <th>command_now</th>\n",
       "      <th>shield_no</th>\n",
       "      <th>complaint_id</th>\n",
       "      <th>month_received</th>\n",
       "      <th>year_received</th>\n",
       "      <th>month_closed</th>\n",
       "      <th>year_closed</th>\n",
       "      <th>...</th>\n",
       "      <th>mos_age_incident</th>\n",
       "      <th>complainant_ethnicity</th>\n",
       "      <th>complainant_gender</th>\n",
       "      <th>complainant_age_incident</th>\n",
       "      <th>fado_type</th>\n",
       "      <th>allegation</th>\n",
       "      <th>precinct</th>\n",
       "      <th>contact_reason</th>\n",
       "      <th>outcome_description</th>\n",
       "      <th>board_disposition</th>\n",
       "    </tr>\n",
       "  </thead>\n",
       "  <tbody>\n",
       "    <tr>\n",
       "      <th>0</th>\n",
       "      <td>10004</td>\n",
       "      <td>Jonathan</td>\n",
       "      <td>Ruiz</td>\n",
       "      <td>078 PCT</td>\n",
       "      <td>8409</td>\n",
       "      <td>42835</td>\n",
       "      <td>7</td>\n",
       "      <td>2019</td>\n",
       "      <td>5</td>\n",
       "      <td>2020</td>\n",
       "      <td>...</td>\n",
       "      <td>32</td>\n",
       "      <td>Black</td>\n",
       "      <td>Female</td>\n",
       "      <td>38.0</td>\n",
       "      <td>Abuse of Authority</td>\n",
       "      <td>Failure to provide RTKA card</td>\n",
       "      <td>78.0</td>\n",
       "      <td>Report-domestic dispute</td>\n",
       "      <td>No arrest made or summons issued</td>\n",
       "      <td>Substantiated (Command Lvl Instructions)</td>\n",
       "    </tr>\n",
       "    <tr>\n",
       "      <th>1</th>\n",
       "      <td>10007</td>\n",
       "      <td>John</td>\n",
       "      <td>Sears</td>\n",
       "      <td>078 PCT</td>\n",
       "      <td>5952</td>\n",
       "      <td>24601</td>\n",
       "      <td>11</td>\n",
       "      <td>2011</td>\n",
       "      <td>8</td>\n",
       "      <td>2012</td>\n",
       "      <td>...</td>\n",
       "      <td>24</td>\n",
       "      <td>Black</td>\n",
       "      <td>Male</td>\n",
       "      <td>26.0</td>\n",
       "      <td>Discourtesy</td>\n",
       "      <td>Action</td>\n",
       "      <td>67.0</td>\n",
       "      <td>Moving violation</td>\n",
       "      <td>Moving violation summons issued</td>\n",
       "      <td>Substantiated (Charges)</td>\n",
       "    </tr>\n",
       "    <tr>\n",
       "      <th>2</th>\n",
       "      <td>10007</td>\n",
       "      <td>John</td>\n",
       "      <td>Sears</td>\n",
       "      <td>078 PCT</td>\n",
       "      <td>5952</td>\n",
       "      <td>24601</td>\n",
       "      <td>11</td>\n",
       "      <td>2011</td>\n",
       "      <td>8</td>\n",
       "      <td>2012</td>\n",
       "      <td>...</td>\n",
       "      <td>24</td>\n",
       "      <td>Black</td>\n",
       "      <td>Male</td>\n",
       "      <td>26.0</td>\n",
       "      <td>Offensive Language</td>\n",
       "      <td>Race</td>\n",
       "      <td>67.0</td>\n",
       "      <td>Moving violation</td>\n",
       "      <td>Moving violation summons issued</td>\n",
       "      <td>Substantiated (Charges)</td>\n",
       "    </tr>\n",
       "    <tr>\n",
       "      <th>3</th>\n",
       "      <td>10007</td>\n",
       "      <td>John</td>\n",
       "      <td>Sears</td>\n",
       "      <td>078 PCT</td>\n",
       "      <td>5952</td>\n",
       "      <td>26146</td>\n",
       "      <td>7</td>\n",
       "      <td>2012</td>\n",
       "      <td>9</td>\n",
       "      <td>2013</td>\n",
       "      <td>...</td>\n",
       "      <td>25</td>\n",
       "      <td>Black</td>\n",
       "      <td>Male</td>\n",
       "      <td>45.0</td>\n",
       "      <td>Abuse of Authority</td>\n",
       "      <td>Question</td>\n",
       "      <td>67.0</td>\n",
       "      <td>PD suspected C/V of violation/crime - street</td>\n",
       "      <td>No arrest made or summons issued</td>\n",
       "      <td>Substantiated (Charges)</td>\n",
       "    </tr>\n",
       "    <tr>\n",
       "      <th>4</th>\n",
       "      <td>10009</td>\n",
       "      <td>Noemi</td>\n",
       "      <td>Sierra</td>\n",
       "      <td>078 PCT</td>\n",
       "      <td>24058</td>\n",
       "      <td>40253</td>\n",
       "      <td>8</td>\n",
       "      <td>2018</td>\n",
       "      <td>2</td>\n",
       "      <td>2019</td>\n",
       "      <td>...</td>\n",
       "      <td>39</td>\n",
       "      <td>NaN</td>\n",
       "      <td>NaN</td>\n",
       "      <td>16.0</td>\n",
       "      <td>Force</td>\n",
       "      <td>Physical force</td>\n",
       "      <td>67.0</td>\n",
       "      <td>Report-dispute</td>\n",
       "      <td>Arrest - other violation/crime</td>\n",
       "      <td>Substantiated (Command Discipline A)</td>\n",
       "    </tr>\n",
       "  </tbody>\n",
       "</table>\n",
       "<p>5 rows × 27 columns</p>\n",
       "</div>"
      ],
      "text/plain": [
       "   unique_mos_id first_name last_name command_now  shield_no  complaint_id  \\\n",
       "0          10004   Jonathan      Ruiz     078 PCT       8409         42835   \n",
       "1          10007       John     Sears     078 PCT       5952         24601   \n",
       "2          10007       John     Sears     078 PCT       5952         24601   \n",
       "3          10007       John     Sears     078 PCT       5952         26146   \n",
       "4          10009      Noemi    Sierra     078 PCT      24058         40253   \n",
       "\n",
       "   month_received  year_received  month_closed  year_closed  ...  \\\n",
       "0               7           2019             5         2020  ...   \n",
       "1              11           2011             8         2012  ...   \n",
       "2              11           2011             8         2012  ...   \n",
       "3               7           2012             9         2013  ...   \n",
       "4               8           2018             2         2019  ...   \n",
       "\n",
       "  mos_age_incident complainant_ethnicity complainant_gender  \\\n",
       "0               32                 Black             Female   \n",
       "1               24                 Black               Male   \n",
       "2               24                 Black               Male   \n",
       "3               25                 Black               Male   \n",
       "4               39                   NaN                NaN   \n",
       "\n",
       "  complainant_age_incident           fado_type                    allegation  \\\n",
       "0                     38.0  Abuse of Authority  Failure to provide RTKA card   \n",
       "1                     26.0         Discourtesy                        Action   \n",
       "2                     26.0  Offensive Language                          Race   \n",
       "3                     45.0  Abuse of Authority                      Question   \n",
       "4                     16.0               Force                Physical force   \n",
       "\n",
       "  precinct                                contact_reason  \\\n",
       "0     78.0                       Report-domestic dispute   \n",
       "1     67.0                              Moving violation   \n",
       "2     67.0                              Moving violation   \n",
       "3     67.0  PD suspected C/V of violation/crime - street   \n",
       "4     67.0                                Report-dispute   \n",
       "\n",
       "                outcome_description                         board_disposition  \n",
       "0  No arrest made or summons issued  Substantiated (Command Lvl Instructions)  \n",
       "1   Moving violation summons issued                   Substantiated (Charges)  \n",
       "2   Moving violation summons issued                   Substantiated (Charges)  \n",
       "3  No arrest made or summons issued                   Substantiated (Charges)  \n",
       "4    Arrest - other violation/crime      Substantiated (Command Discipline A)  \n",
       "\n",
       "[5 rows x 27 columns]"
      ]
     },
     "execution_count": 42,
     "metadata": {},
     "output_type": "execute_result"
    }
   ],
   "source": [
    "# read the dataset\n",
    "fp = os.path.join('data', 'allegations_202007271729.csv')\n",
    "df = pd.read_csv(fp)\n",
    "df.head()"
   ]
  },
  {
   "cell_type": "code",
   "execution_count": 43,
   "metadata": {},
   "outputs": [],
   "source": [
    "# drop rows with missing \n",
    "df = df.dropna(axis = 0)"
   ]
  },
  {
   "cell_type": "code",
   "execution_count": 44,
   "metadata": {},
   "outputs": [
    {
     "data": {
      "text/plain": [
       "0.5951734970726832"
      ]
     },
     "execution_count": 44,
     "metadata": {},
     "output_type": "execute_result"
    }
   ],
   "source": [
    "# Numeric columns\n",
    "num_cols = [\"complainant_age_incident\"]\n",
    "nums = FunctionTransformer(lambda x:x)\n",
    "\n",
    "# Categorical columns and associated transformers\n",
    "cat_cols = [\"complainant_gender\", \"mos_ethnicity\", \"fado_type\"]\n",
    "# Use one hot encoder to transform\n",
    "cats = Pipeline(steps = [('ohe', OneHotEncoder(handle_unknown = \"ignore\"))])\n",
    "\n",
    "# Put everything together\n",
    "preproc = ColumnTransformer(transformers=[('num_trans', nums, num_cols), ('cat_trans', cats, cat_cols)], \n",
    "                            remainder = \"drop\")\n",
    "\n",
    "pl = Pipeline(steps=[('preprocessor', preproc), ('classifier', DecisionTreeClassifier())])\n",
    "\n",
    "X = df.drop(\"complainant_ethnicity\", axis = 1)\n",
    "y = df[\"complainant_ethnicity\"]\n",
    "\n",
    "X_train, X_test, y_train, y_test = train_test_split(X, y, test_size=0.25)\n",
    "\n",
    "pl.fit(X_train, y_train)\n",
    "# R-squared\n",
    "pl.score(X_test, y_test)"
   ]
  },
  {
   "cell_type": "markdown",
   "metadata": {},
   "source": [
    "### Final Model"
   ]
  },
  {
   "cell_type": "markdown",
   "metadata": {},
   "source": [
    "**New Feature- Duration(length) of Complains**\n",
    "\n",
    "In our project03, we did a hypothesis test on the difference of length of complains in different ethnicities. The hypothesis proves the present of the discrepancy. Therefore, we believe that the new feature Length will be a vaild predictor for the ethnicity."
   ]
  },
  {
   "cell_type": "code",
   "execution_count": 45,
   "metadata": {},
   "outputs": [
    {
     "data": {
      "text/plain": [
       "0.6650007139797229"
      ]
     },
     "execution_count": 45,
     "metadata": {},
     "output_type": "execute_result"
    }
   ],
   "source": [
    "#new feature length\n",
    "#helper transform function to perform transformation from multiple time columns to calculate the duration\n",
    "def helper(arr):\n",
    "    received=pd.to_datetime(arr.iloc[:,:2].astype(str).apply('-'.join,1))\n",
    "    closed=pd.to_datetime(arr.iloc[:,2:4].astype(str).apply('-'.join,1))\n",
    "    return (closed-received).astype(str).str[:-4].astype(int).to_frame()\n",
    "l=FunctionTransformer(helper)\n",
    "len_col=['month_received','year_received','month_closed','year_closed']\n",
    "\n",
    "# Numeric columns\n",
    "num_cols = [ \"complainant_age_incident\"]\n",
    "nums = FunctionTransformer(lambda x:x)\n",
    "\n",
    "# Categorical columns and associated transformers\n",
    "cat_cols = [\"complainant_gender\", \"mos_ethnicity\", \"fado_type\"]\n",
    "# Use one hot encoder to transform\n",
    "cats = Pipeline(steps = [('ohe', OneHotEncoder(handle_unknown = \"ignore\"))])\n",
    "\n",
    "# Put everything together\n",
    "preproc = ColumnTransformer(transformers=[('len_trans',l,len_col),('num_trans', nums, num_cols), ('cat_trans', cats, cat_cols)], \n",
    "                            remainder = \"drop\")\n",
    "\n",
    "pl = Pipeline(steps=[('preprocessor', preproc), ('classifier', DecisionTreeClassifier())])\n",
    "\n",
    "pl.fit(X_train, y_train)\n",
    "# R-squared\n",
    "pl.score(X_test, y_test)"
   ]
  },
  {
   "cell_type": "markdown",
   "metadata": {},
   "source": [
    "Now with the new feature added, we can clearly see that the performance has been improved by a lot - R^2 has been increased from 0.59 to **0.66**"
   ]
  },
  {
   "cell_type": "markdown",
   "metadata": {},
   "source": [
    "**New Feature- Last Name**\n",
    "\n"
   ]
  },
  {
   "cell_type": "markdown",
   "metadata": {},
   "source": [
    "Last name is definitely a great indicator of an individual's ethnicity since people from different area of the world has uses different language and are likely have different ethnicities. Before, we are worrying about the last names are too many to be considered valuable. However, after checking with the total number of data points, we considered it as a useful predictor."
   ]
  },
  {
   "cell_type": "code",
   "execution_count": 49,
   "metadata": {},
   "outputs": [
    {
     "data": {
      "text/plain": [
       "0.7618163644152506"
      ]
     },
     "execution_count": 49,
     "metadata": {},
     "output_type": "execute_result"
    }
   ],
   "source": [
    "#new feature length\n",
    "#helper transform function to perform transformation from multiple time columns to calculate the duration\n",
    "def helper(arr):\n",
    "    received=pd.to_datetime(arr.iloc[:,:2].astype(str).apply('-'.join,1))\n",
    "    closed=pd.to_datetime(arr.iloc[:,2:4].astype(str).apply('-'.join,1))\n",
    "    return (closed-received).astype(str).str[:-4].astype(int).to_frame()\n",
    "l=FunctionTransformer(helper)\n",
    "len_col=['month_received','year_received','month_closed','year_closed']\n",
    "\n",
    "# Numeric columns\n",
    "num_cols = [ \"complainant_age_incident\"]\n",
    "nums = FunctionTransformer(lambda x:x)\n",
    "\n",
    "# Categorical columns and associated transformers\n",
    "cat_cols = [\"complainant_gender\", \"mos_ethnicity\", \"fado_type\",\"last_name\"]\n",
    "# Use one hot encoder to transform\n",
    "cats = Pipeline(steps = [('ohe', OneHotEncoder(handle_unknown = \"ignore\"))])\n",
    "\n",
    "# Put everything together\n",
    "preproc = ColumnTransformer(transformers=[('num_trans', nums, num_cols), ('cat_trans', cats, cat_cols)], \n",
    "                            remainder = \"drop\")\n",
    "\n",
    "pl = Pipeline(steps=[('preprocessor', preproc), ('classifier', DecisionTreeClassifier())])\n",
    "\n",
    "pl.fit(X_train, y_train)\n",
    "# R-squared\n",
    "pl.score(X_test, y_test)"
   ]
  },
  {
   "cell_type": "markdown",
   "metadata": {},
   "source": [
    "Now with the new feature added, we can clearly see that the performance has been improved by a lot - R^2 has been increased to **0.76**"
   ]
  },
  {
   "cell_type": "markdown",
   "metadata": {},
   "source": [
    "**Deleted Feature-fado_type**\n",
    "\n",
    "\n",
    "Comparing with other features we selected so far, fado_type seems to be the least relevant feature to predict ethnicity, therefore we considered deleting it."
   ]
  },
  {
   "cell_type": "code",
   "execution_count": 50,
   "metadata": {},
   "outputs": [
    {
     "data": {
      "text/plain": [
       "0.8120805369127517"
      ]
     },
     "execution_count": 50,
     "metadata": {},
     "output_type": "execute_result"
    }
   ],
   "source": [
    "#new feature length\n",
    "#helper transform function to perform transformation from multiple time columns to calculate the duration\n",
    "def helper(arr):\n",
    "    received=pd.to_datetime(arr.iloc[:,:2].astype(str).apply('-'.join,1))\n",
    "    closed=pd.to_datetime(arr.iloc[:,2:4].astype(str).apply('-'.join,1))\n",
    "    return (closed-received).astype(str).str[:-4].astype(int).to_frame()\n",
    "l=FunctionTransformer(helper)\n",
    "len_col=['month_received','year_received','month_closed','year_closed']\n",
    "\n",
    "# Numeric columns\n",
    "num_cols = [\"complainant_age_incident\"]\n",
    "nums = FunctionTransformer(lambda x:x)\n",
    "\n",
    "# Categorical columns and associated transformers\n",
    "cat_cols = [\"complainant_gender\", \"mos_ethnicity\",\"last_name\"]\n",
    "# Use one hot encoder to transform\n",
    "cats = Pipeline(steps = [('ohe', OneHotEncoder(handle_unknown = \"ignore\"))])\n",
    "\n",
    "# Put everything together\n",
    "preproc = ColumnTransformer(transformers=[('num_trans', nums, num_cols), ('cat_trans', cats, cat_cols)], \n",
    "                            remainder = \"drop\")\n",
    "\n",
    "pl = Pipeline(steps=[('preprocessor', preproc), ('classifier', DecisionTreeClassifier())])\n",
    "\n",
    "pl.fit(X_train, y_train)\n",
    "# R-squared\n",
    "pl.score(X_test, y_test)"
   ]
  },
  {
   "cell_type": "markdown",
   "metadata": {},
   "source": [
    "After deleting this feature, the R^2 gets a little larger (increased to **0.81**), which proves our guess and indicates that the presence of fado_type as an estimator may encumber our model precision"
   ]
  },
  {
   "cell_type": "markdown",
   "metadata": {},
   "source": [
    "**New Feature- numerical columns multiplied**\n",
    "\n",
    "From so far, the numerical columns we used are duration('month_received','year_received','month_closed','year_closed' combined) and complainant_age_incident. We think that may be we should use time data in another way since the duration is only a measure of time length, but time is also an important indicator of the social backgroud. We want to explore whether the product of combinations of those columns will yield a better result for our prediction. "
   ]
  },
  {
   "cell_type": "code",
   "execution_count": 51,
   "metadata": {},
   "outputs": [
    {
     "name": "stdout",
     "output_type": "stream",
     "text": [
      "month_received * year_received: 0.8383549907182636\n",
      "month_received * month_closed: 0.8333571326574325\n",
      "month_received * year_closed: 0.8357846637155505\n",
      "month_received * complainant_age_incident: 0.8323575610452664\n",
      "year_received * month_closed: 0.8315007853776952\n",
      "year_received * year_closed: 0.832071969156076\n",
      "year_received * complainant_age_incident: 0.8267885192060546\n",
      "month_closed * year_closed: 0.836213051549336\n",
      "month_closed * complainant_age_incident: 0.8366414393831215\n",
      "year_closed * complainant_age_incident: 0.8267885192060546\n"
     ]
    }
   ],
   "source": [
    "all_num=['month_received','year_received','month_closed','year_closed','complainant_age_incident']\n",
    "\n",
    "index=1\n",
    "pairs=[]\n",
    "result=[]\n",
    "for i in all_num:\n",
    "    for j in all_num[index:]:\n",
    "        #do multplication transformation for evey possible pair of numerical column combinations\n",
    "        pairs.append(i+\" * \"+j)\n",
    "        l=FunctionTransformer(helper)\n",
    "        len_col=['month_received','year_received','month_closed','year_closed']\n",
    "        multi=FunctionTransformer(lambda x: pd.DataFrame((x.iloc[:,0]*x.iloc[:,1])))\n",
    "        #assgin each pairs to the columns to be multiplied \n",
    "        mul_col=[i,j]\n",
    "        num_cols = [\"complainant_age_incident\"]\n",
    "        nums = FunctionTransformer(lambda x:x)\n",
    "        cat_cols = [\"complainant_gender\", \"mos_ethnicity\",\"last_name\"]\n",
    "        cats = Pipeline(steps = [('ohe', OneHotEncoder(handle_unknown = \"ignore\"))])\n",
    "        preproc = ColumnTransformer(transformers=[('year_multi',multi,mul_col),('num_trans', nums, num_cols), ('cat_trans', cats, cat_cols)], \n",
    "                            remainder = \"drop\")\n",
    "        pl = Pipeline(steps=[('preprocessor', preproc), ('classifier', DecisionTreeClassifier())])\n",
    "        pl.fit(X_train, y_train)\n",
    "        result.append(pl.score(X_test, y_test))       \n",
    "        print(i+\" * \"+j+\": \"+str(pl.score(X_test, y_test)))\n",
    "    index+=1\n"
   ]
  },
  {
   "cell_type": "markdown",
   "metadata": {},
   "source": [
    "**Observation:**\n",
    "As shown by the result printed, all combinations of numerical columns can make the prediction better than what we have got before."
   ]
  },
  {
   "cell_type": "markdown",
   "metadata": {},
   "source": [
    "**Explaination:** Apart from calculating the duration, time column is also useful in improving prediction accuracy. We think the reason is that in the duration, we only used time as a period. However, we also need to consider the time difference which could also be an indicator of the social background relfecting a complainant's ethnicity. The reason we can think about is that as the society become more open in recent years, the minority races have more courage to submit a complaint. Therefore we need a predictor such as year_received to determine the time that the complain happened"
   ]
  },
  {
   "cell_type": "markdown",
   "metadata": {},
   "source": [
    "**Combination to Choose**: according to what we got above and connection to reality, we believe that the feature year_received * year_closed will be the most reasonable feature to be included in our model."
   ]
  },
  {
   "cell_type": "markdown",
   "metadata": {},
   "source": [
    "**Summary & Conclusion**\n",
    "\n",
    "To further improve our model, we added the feature duration/length, which is a combination of 'month_received','year_received','month_closed', and 'year_closed'; we also added the feature last_name, and deleted the feature fado_type. At last we tried very combinations of the numerical features, and find the multiplication of year_received and year_closed the most reasonable and effective feature to add.\n",
    "\n",
    "Final Model:\n",
    "<li>numerical:</li>\n",
    "       \n",
    "       engineered Length feature\n",
    "       \n",
    "       enginerred year_received year_closed feature\n",
    "       \n",
    "       complainant_age_incident feature\n",
    "\n",
    "<li>categorical:</li>\n",
    "\n",
    "       \"complainant_gender\", \"mos_ethnicity\", and \"last_name\"\n",
    "       \n",
    "At last, we are able to improve our model from R^2 .59 to **.83**, which we think is a big improvement"
   ]
  },
  {
   "cell_type": "code",
   "execution_count": 52,
   "metadata": {},
   "outputs": [
    {
     "data": {
      "text/plain": [
       "0.834499500214194"
      ]
     },
     "execution_count": 52,
     "metadata": {},
     "output_type": "execute_result"
    }
   ],
   "source": [
    "#new feature length\n",
    "#helper transform function to perform transformation from multiple time columns to calculate the duration\n",
    "def helper(arr):\n",
    "    received=pd.to_datetime(arr.iloc[:,:2].astype(str).apply('-'.join,1))\n",
    "    closed=pd.to_datetime(arr.iloc[:,2:4].astype(str).apply('-'.join,1))\n",
    "    return (closed-received).astype(str).str[:-4].astype(int).to_frame()\n",
    "l=FunctionTransformer(helper)\n",
    "len_col=['month_received','year_received','month_closed','year_closed']\n",
    "\n",
    "#new feature year_received*year_closed\n",
    "multi=FunctionTransformer(lambda x: pd.DataFrame((x.iloc[:,0]*x.iloc[:,1])))\n",
    "multi_col=['year_received','year_closed']\n",
    "\n",
    "# Numeric columns\n",
    "num_cols = [\"complainant_age_incident\"]\n",
    "nums = FunctionTransformer(lambda x:x)\n",
    "\n",
    "# Categorical columns and associated transformers\n",
    "cat_cols = [\"complainant_gender\", \"mos_ethnicity\",\"last_name\"]\n",
    "# Use one hot encoder to transform\n",
    "cats = Pipeline(steps = [('ohe', OneHotEncoder(handle_unknown = \"ignore\"))])\n",
    "\n",
    "# Put everything together\n",
    "preproc = ColumnTransformer(transformers=[('multi_trans',multi,multi_col), ('num_trans', nums, num_cols), ('cat_trans', cats, cat_cols)], \n",
    "                            remainder = \"drop\")\n",
    "\n",
    "pl = Pipeline(steps=[('preprocessor', preproc), ('classifier', DecisionTreeClassifier())])\n",
    "\n",
    "pl.fit(X_train, y_train)\n",
    "# R-squared\n",
    "pl.score(X_test, y_test)"
   ]
  },
  {
   "cell_type": "markdown",
   "metadata": {},
   "source": [
    "### Fairness Evaluation"
   ]
  },
  {
   "cell_type": "code",
   "execution_count": 53,
   "metadata": {},
   "outputs": [
    {
     "data": {
      "text/plain": [
       "Black              16707\n",
       "Hispanic            6279\n",
       "White               2712\n",
       "Unknown              812\n",
       "Other Race           665\n",
       "Asian                522\n",
       "Refused              252\n",
       "American Indian       63\n",
       "Name: complainant_ethnicity, dtype: int64"
      ]
     },
     "execution_count": 53,
     "metadata": {},
     "output_type": "execute_result"
    }
   ],
   "source": [
    "df['complainant_ethnicity'].value_counts()"
   ]
  },
  {
   "cell_type": "markdown",
   "metadata": {},
   "source": [
    "As shown by the value counts abouve, there are significantly more black complainants than complainants from other races. Due to this discovery, we want to investigate if our data is biased towards the black population.\n",
    "\n",
    "In this investigation, we decided to use **sensitivity**(TP/TP+FN) as our fairness measure"
   ]
  },
  {
   "cell_type": "code",
   "execution_count": 54,
   "metadata": {},
   "outputs": [],
   "source": [
    "X = df.drop(\"complainant_ethnicity\", axis = 1)\n",
    "y = df[\"complainant_ethnicity\"]\n",
    "X_train, X_test, y_train, y_test = train_test_split(X, y, test_size=0.25)\n",
    "pl.fit(X_train, y_train)\n",
    "pred=pl.predict(X_test)"
   ]
  },
  {
   "cell_type": "code",
   "execution_count": 55,
   "metadata": {},
   "outputs": [
    {
     "data": {
      "text/plain": [
       "actual\n",
       "American Indian    0.578947\n",
       "Asian              0.588710\n",
       "Black              0.917329\n",
       "Hispanic           0.713848\n",
       "Other Race         0.707317\n",
       "Refused            0.645161\n",
       "Unknown            0.666667\n",
       "White              0.659443\n",
       "Name: correct, dtype: float64"
      ]
     },
     "execution_count": 55,
     "metadata": {},
     "output_type": "execute_result"
    }
   ],
   "source": [
    "out=pd.DataFrame([pred,y_test]).T\n",
    "out.columns=['predict','actual']\n",
    "out=out.assign(correct=out['predict']==out['actual'])\n",
    "out.groupby('actual')['correct'].mean()"
   ]
  },
  {
   "cell_type": "markdown",
   "metadata": {},
   "source": [
    "As shown by the observation above, the sensitivity of black complainant(.9) is much higher than people from other races.\n",
    "\n",
    "Now we want to do a permutation test to show if this is due to random chance."
   ]
  },
  {
   "cell_type": "markdown",
   "metadata": {},
   "source": [
    "Null hypothesis: the sensitivity of the black group is equal to the sensitivity of others (**u** black=**u** others)\n",
    "\n",
    "Alternative hypothesis: the sensitivity of the black group is not equal to the sensitivity of others (**u** black!=**u** others)\n",
    "\n",
    "significance level: 0.05\n"
   ]
  },
  {
   "cell_type": "code",
   "execution_count": 56,
   "metadata": {},
   "outputs": [
    {
     "data": {
      "text/plain": [
       "0.0"
      ]
     },
     "execution_count": 56,
     "metadata": {},
     "output_type": "execute_result"
    }
   ],
   "source": [
    "#set-up\n",
    "out['is_black']=(out['actual']==\"Black\").apply(lambda x: \"Black\" if x==True else \"Other\")\n",
    "#observation\n",
    "obs=out.groupby('is_black')['correct'].mean().diff().abs().iloc[-1]\n",
    "\n",
    "#permutation test\n",
    "stats=[]\n",
    "for i in range(100):\n",
    "    out=out.assign(isblack=out.is_black.sample(frac=1.0, replace=False).reset_index(drop=True))\n",
    "    stats.append(out.groupby('isblack')['correct'].mean().diff().abs().iloc[-1])\n",
    "    \n",
    "\n",
    "p=np.mean(obs<stats)\n",
    "p"
   ]
  },
  {
   "cell_type": "code",
   "execution_count": 57,
   "metadata": {},
   "outputs": [
    {
     "data": {
      "image/png": "[encoded data removed]",
      "text/plain": [
       "<Figure size 432x288 with 1 Axes>"
      ]
     },
     "metadata": {
      "image/png": {
       "height": 263,
       "width": 443
      },
      "needs_background": "light"
     },
     "output_type": "display_data"
    }
   ],
   "source": [
    "pd.Series(stats).plot(kind='hist', title='Permutation Test for Predcition Accuracy across black/non-black groups')\n",
    "plt.scatter(obs, 0, c='r');"
   ]
  },
  {
   "cell_type": "markdown",
   "metadata": {},
   "source": [
    "From the plot and the p-value, we got p=0.0, which leads us to reject the null hypothesis that the sensitivity of the black group is equal to the sensitivity of others and support our althernative hypothesis. Therefore we conclude that the sensitivity of prediction of the black group is statistically greater than the other groups. \n",
    "\n",
    "We confirmed our first guess that due to the large proportion in the complainant population, the black group is strongly biased in sensitivity in our model."
   ]
  },
  {
   "cell_type": "code",
   "execution_count": null,
   "metadata": {},
   "outputs": [],
   "source": []
  }
 ],
 "metadata": {
  "kernelspec": {
   "display_name": "Python 3",
   "language": "python",
   "name": "python3"
  },
  "language_info": {
   "codemirror_mode": {
    "name": "ipython",
    "version": 3
   },
   "file_extension": ".py",
   "mimetype": "text/x-python",
   "name": "python",
   "nbconvert_exporter": "python",
   "pygments_lexer": "ipython3",
   "version": "3.8.5"
  }
 },
 "nbformat": 4,
 "nbformat_minor": 2
}
